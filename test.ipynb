{
 "cells": [
  {
   "cell_type": "markdown",
   "source": [
    "## json test"
   ],
   "metadata": {
    "collapsed": false
   }
  },
  {
   "cell_type": "code",
   "execution_count": 1,
   "metadata": {
    "collapsed": true
   },
   "outputs": [],
   "source": [
    "import json"
   ]
  },
  {
   "cell_type": "code",
   "execution_count": 5,
   "outputs": [
    {
     "name": "stdout",
     "output_type": "stream",
     "text": [
      "{'area': '', 'data': [{'name': 'test', 'model': '8020', 'ip': '192.168.0.250', 'pwd': 'root'}, {'name': 'test', 'model': '8020', 'ip': '192.168.0.250', 'pwd': 'root'}]}\n"
     ]
    }
   ],
   "source": [
    "f = open('./config/ip_data.json', 'r' , encoding='utf8')\n",
    "a = json.load(f)\n",
    "print(a)"
   ],
   "metadata": {
    "collapsed": false
   }
  },
  {
   "cell_type": "code",
   "execution_count": 6,
   "outputs": [
    {
     "name": "stdout",
     "output_type": "stream",
     "text": [
      "0 {'name': 'test', 'model': '8020', 'ip': '192.168.0.250', 'pwd': 'root'}\n",
      "1 {'name': 'test', 'model': '8020', 'ip': '192.168.0.250', 'pwd': 'root'}\n"
     ]
    }
   ],
   "source": [
    "for i , data in enumerate(a['data']):\n",
    "    print(i, data)"
   ],
   "metadata": {
    "collapsed": false
   }
  },
  {
   "cell_type": "code",
   "execution_count": null,
   "outputs": [],
   "source": [],
   "metadata": {
    "collapsed": false
   }
  }
 ],
 "metadata": {
  "kernelspec": {
   "display_name": "Python 3",
   "language": "python",
   "name": "python3"
  },
  "language_info": {
   "codemirror_mode": {
    "name": "ipython",
    "version": 2
   },
   "file_extension": ".py",
   "mimetype": "text/x-python",
   "name": "python",
   "nbconvert_exporter": "python",
   "pygments_lexer": "ipython2",
   "version": "2.7.6"
  }
 },
 "nbformat": 4,
 "nbformat_minor": 0
}
